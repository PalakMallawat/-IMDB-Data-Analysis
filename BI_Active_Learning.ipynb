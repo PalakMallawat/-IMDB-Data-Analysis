{
 "cells": [
  {
   "cell_type": "code",
   "execution_count": null,
   "id": "dd2b94a7",
   "metadata": {},
   "outputs": [],
   "source": [
    "import pandas as pd\n",
    "import numpy as np\n",
    "import re\n",
    "from bs4 import BeautifulSoup\n",
    "import contractions\n",
    "import nltk\n",
    "from nltk.corpus import stopwords\n",
    "from nltk.stem import WordNetLemmatizer\n",
    "df=pd.read_table('amazon_reviews_us_Beauty_v1_00.tsv.gz', on_bad_lines = 'skip')\n"
   ]
  },
  {
   "cell_type": "code",
   "execution_count": null,
   "id": "e55e9bc4",
   "metadata": {},
   "outputs": [],
   "source": [
    "df1=df.loc[df['star_rating'].isin(['1','2'])]\n",
    "df1['star_rating']=1\n",
    "df2=df.loc[df['star_rating'] == '3']\n",
    "df2['star_rating']=2\n",
    "df3=df.loc[df['star_rating'].isin(['4','5'])]\n",
    "df3['star_rating']=3\n",
    "df1=df1.sample(n=20000)\n",
    "df2=df2.sample(n=20000)\n",
    "df3=df3.sample(n=20000)\n",
    "dff=pd.concat([df1,df2,df3])\n",
    "dff['review_body']=dff['review_body'].apply(str)\n",
    "dfr = dff.loc[:, ['star_rating','review_body']]"
   ]
  },
  {
   "cell_type": "code",
   "execution_count": 1,
   "id": "a5106195",
   "metadata": {},
   "outputs": [
    {
     "name": "stdout",
     "output_type": "stream",
     "text": [
      "Requirement already satisfied: contractions in c:\\users\\palak\\anaconda3\\lib\\site-packages (0.1.73)\n",
      "Requirement already satisfied: textsearch>=0.0.21 in c:\\users\\palak\\anaconda3\\lib\\site-packages (from contractions) (0.0.24)\n",
      "Requirement already satisfied: anyascii in c:\\users\\palak\\anaconda3\\lib\\site-packages (from textsearch>=0.0.21->contractions) (0.3.1)\n",
      "Requirement already satisfied: pyahocorasick in c:\\users\\palak\\anaconda3\\lib\\site-packages (from textsearch>=0.0.21->contractions) (2.0.0)\n",
      "Note: you may need to restart the kernel to use updated packages.\n"
     ]
    }
   ],
   "source": [
    "pip install contractions"
   ]
  },
  {
   "cell_type": "code",
   "execution_count": null,
   "id": "1b243dbd",
   "metadata": {},
   "outputs": [],
   "source": [
    "avgCharLengthBeforeCleaning=dff['review_body'].str.len().mean()\n",
    "dfr['review_body'] = dff['review_body'].str.lower()\n",
    "dfr['review_body']=dfr['review_body'].apply(str)\n",
    " # strip html with BeautifulSoup\n",
    "dfr['review_body'] = [BeautifulSoup(text).get_text() for text in dfr['review_body'] ]\n",
    "# remove non alphabetic. keep spaces\n",
    "dfr['review_body'] = dfr['review_body'].str.replace('[^a-zA-Z ]', '')\n",
    "# strip leading and trailing spaces. strip extra white spaces\n",
    "dfr['review_body'] = dfr['review_body'].str.strip()\n",
    "# handle contractions\n",
    "dfr['review_body'] = [contractions.fix(text) for text in dfr['review_body'] ]\n",
    "# get average length of reviews after cleaning\n",
    "avgCharLengthAfterCleaning=dfr['review_body'].str.len().mean()\n",
    "print(str(avgCharLengthBeforeCleaning) + \", \" + str(avgCharLengthAfterCleaning))"
   ]
  },
  {
   "cell_type": "code",
   "execution_count": 2,
   "id": "b802ff56",
   "metadata": {},
   "outputs": [
    {
     "name": "stderr",
     "output_type": "stream",
     "text": [
      "[nltk_data] Downloading package wordnet to\n",
      "[nltk_data]     C:\\Users\\Palak\\AppData\\Roaming\\nltk_data...\n",
      "[nltk_data]   Package wordnet is already up-to-date!\n",
      "[nltk_data] Downloading package omw-1.4 to\n",
      "[nltk_data]     C:\\Users\\Palak\\AppData\\Roaming\\nltk_data...\n",
      "[nltk_data]   Package omw-1.4 is already up-to-date!\n"
     ]
    },
    {
     "data": {
      "text/plain": [
       "True"
      ]
     },
     "execution_count": 2,
     "metadata": {},
     "output_type": "execute_result"
    }
   ],
   "source": [
    "import nltk\n",
    "nltk.download('wordnet')\n",
    "nltk.download('omw-1.4')"
   ]
  },
  {
   "cell_type": "code",
   "execution_count": null,
   "id": "b8c5b271",
   "metadata": {},
   "outputs": [],
   "source": []
  }
 ],
 "metadata": {
  "kernelspec": {
   "display_name": "Python 3 (ipykernel)",
   "language": "python",
   "name": "python3"
  },
  "language_info": {
   "codemirror_mode": {
    "name": "ipython",
    "version": 3
   },
   "file_extension": ".py",
   "mimetype": "text/x-python",
   "name": "python",
   "nbconvert_exporter": "python",
   "pygments_lexer": "ipython3",
   "version": "3.9.13"
  }
 },
 "nbformat": 4,
 "nbformat_minor": 5
}
